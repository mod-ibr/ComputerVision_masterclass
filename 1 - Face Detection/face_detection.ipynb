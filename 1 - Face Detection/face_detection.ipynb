{
  "cells": [
    {
      "cell_type": "markdown",
      "metadata": {
        "id": "view-in-github",
        "colab_type": "text"
      },
      "source": [
        "<a href=\"https://colab.research.google.com/github/mod-ibr/ComputerVision_masterclass/blob/main/1%20-%20Face%20Detection/face_detection.ipynb\" target=\"_parent\"><img src=\"https://colab.research.google.com/assets/colab-badge.svg\" alt=\"Open In Colab\"/></a>"
      ]
    },
    {
      "cell_type": "markdown",
      "metadata": {
        "id": "0cGVbgbJSM-K"
      },
      "source": [
        "#Object detection using Haarcascade, HOG and Dlib\n",
        "\n"
      ]
    },
    {
      "cell_type": "markdown",
      "metadata": {
        "id": "cv0drDDwSh58"
      },
      "source": [
        "**Content** : \n",
        "1 -**Front Face** Detection using **Haarcascade**.\n",
        "2 -**Eye Detection** using **Haarcascade**.\n",
        "3 -**Front Face** Detection using **HOG** and **Dlib**."
      ]
    },
    {
      "cell_type": "markdown",
      "metadata": {
        "id": "8wSpj2oC0lYp"
      },
      "source": [
        "#####Note : when using Casecade algortithm you should use (Recommended) gray scale to reduse the time because it eill take much time because Cascade algor. Leater we well learn other algorithmes to treat with  colerd Images.\n",
        " "
      ]
    },
    {
      "cell_type": "markdown",
      "metadata": {
        "id": "tbjoKbqPXvnT"
      },
      "source": [
        "##HaarCascade"
      ]
    },
    {
      "cell_type": "markdown",
      "metadata": {
        "id": "IyO-YjpzXj2z"
      },
      "source": [
        "### 1 - Front Face Detection using HaarCascade"
      ]
    },
    {
      "cell_type": "code",
      "execution_count": null,
      "metadata": {
        "colab": {
          "background_save": true
        },
        "id": "uRPY4BO2a_ta"
      },
      "outputs": [],
      "source": [
        "# Import some Libs\n",
        "import cv2\n",
        "# Import Image From Drive And Show Some Detailesabout.\n",
        "from google.colab import drive \n",
        "drive.mount('/content/drive')\n",
        "image = cv2.imread('/content/peoble_faceDetection_example.png')\n",
        "image.shape\n",
        "# Note: cv2.imshow(image) 'when you use with other compiler'\n",
        "from google.colab.patches import cv2_imshow\n",
        "cv2_imshow(image)\n",
        "# Resize The Image to reduse the time and Complexity\n",
        "image = cv2.resize(image,(1000,800))\n",
        "image.shape\n",
        "from google.colab.patches import cv2_imshow\n",
        "cv2_imshow(image)\n",
        "# Convert Image To Gray Scale To Make It Easy To Apply HaarCascade Algorithem As We Obtained.\n",
        "image_gray = cv2.cvtColor(image,cv2.COLOR_BGR2GRAY)\n",
        "cv2_imshow(image_gray)"
      ]
    },
    {
      "cell_type": "markdown",
      "metadata": {
        "id": "GxJ1z2Kife4H"
      },
      "source": [
        "The GitHub link of XML files of Haarcascade: https://github.com/opencv/opencv/tree/master/data/haarcascades"
      ]
    },
    {
      "cell_type": "code",
      "execution_count": null,
      "metadata": {
        "colab": {
          "background_save": true
        },
        "id": "6T3psPfLCUiz"
      },
      "outputs": [],
      "source": [
        "faceDetector = cv2.CascadeClassifier(\"/content/haarcascade_frontalface_default.xml\")\n",
        "detections = faceDetector.detectMultiScale(image_gray,scaleFactor = 2.1)"
      ]
    },
    {
      "cell_type": "markdown",
      "metadata": {
        "id": "JI4lBugXdona"
      },
      "source": [
        "Parameters Could Change your Accuracy:\n",
        "1 - The size of Image.\n",
        "2 - Hyper parameters of your Detection Object \" FaceDetector.detectMultiScale(...) \" Like : A - **scaleFactor** it should be greater than Double number  1.0,small tip could help you is that you should start your test with shourt addition like 1.01 and so on. B - **minNeighbors** you can make it larg Integer number like 5 and reduse it by trial and error."
      ]
    },
    {
      "cell_type": "code",
      "execution_count": null,
      "metadata": {
        "colab": {
          "background_save": true
        },
        "id": "GtOWu3sqDJKB"
      },
      "outputs": [],
      "source": [
        "#detections\n",
        "len(detections)"
      ]
    },
    {
      "cell_type": "code",
      "execution_count": null,
      "metadata": {
        "colab": {
          "background_save": true
        },
        "id": "EUwPRetgEn_h"
      },
      "outputs": [],
      "source": [
        "tempImageForFace = image.copy()\n",
        "for (x,y,w,h) in detections:\n",
        "  #print(x,y,w,h)\n",
        "  cv2.rectangle(tempImageForFace,(x,y),(x+w,y+h),(0,0,255),4)\n",
        "cv2_imshow(tempImageForFace)"
      ]
    },
    {
      "cell_type": "markdown",
      "metadata": {
        "id": "WxnE99USrb6L"
      },
      "source": [
        "###2 - Eye Detection Using HaarCascade "
      ]
    },
    {
      "cell_type": "code",
      "execution_count": null,
      "metadata": {
        "colab": {
          "background_save": true
        },
        "id": "SqLVD7rUgGuh"
      },
      "outputs": [],
      "source": [
        "# Import some Libs\n",
        "import cv2\n",
        "# Import Image From Drive And Show Some Detailesabout.\n",
        "from google.colab import drive \n",
        "drive.mount('/content/drive')\n",
        "image = cv2.imread('/content/peoble_faceDetection_example.png')\n",
        "image.shape\n",
        "# Note: cv2.imshow(image) 'when you use with other compiler'\n",
        "from google.colab.patches import cv2_imshow\n",
        "cv2_imshow(image)\n",
        "# Resize The Image to reduse the time and Complexity\n",
        "#image = cv2.resize(image,(1000,800))\n",
        "#image.shape\n",
        "from google.colab.patches import cv2_imshow\n",
        "cv2_imshow(image)\n",
        "# Convert Image To Gray Scale To Make It Easy To Apply HaarCascade Algorithem As We Obtained.\n",
        "image_gray = cv2.cvtColor(image,cv2.COLOR_BGR2GRAY)\n",
        "cv2_imshow(image_gray)"
      ]
    },
    {
      "cell_type": "code",
      "execution_count": null,
      "metadata": {
        "colab": {
          "background_save": true
        },
        "id": "XDMSSZndYqEo"
      },
      "outputs": [],
      "source": [
        "eyeDetector = cv2.CascadeClassifier(\"/content/haarcascade_eye.xml\")\n",
        "detections = eyeDetector.detectMultiScale(image_gray,scaleFactor =1.2,minNeighbors=5,maxSize=(50,50))\n",
        "#detections\n",
        "print (\"Number Of Eyes = \",len(detections))\n",
        "tempImageForEye = image.copy()\n",
        "for (x,y,w,h) in detections:\n",
        "  #print(x,y,w,h)\n",
        "  cv2.rectangle(tempImageForEye,(x,y),(x+w,y+h),(0,0,255),2)\n",
        "cv2_imshow(tempImageForEye)"
      ]
    },
    {
      "cell_type": "markdown",
      "metadata": {
        "id": "ACiPXbohQT66"
      },
      "source": [
        "##**Front Face** Detection using HOG and Dlib."
      ]
    },
    {
      "cell_type": "code",
      "execution_count": null,
      "metadata": {
        "id": "cItahz3yQWLR"
      },
      "outputs": [],
      "source": [
        "import dlib\n",
        "import  cv2"
      ]
    },
    {
      "cell_type": "code",
      "execution_count": null,
      "metadata": {
        "id": "9Z4DBiMqYvej"
      },
      "outputs": [],
      "source": [
        "from google.colab import drive \n",
        "drive.mount('/content/drive')\n",
        "image = cv2.imread('/content/peoble_faceDetection_example.png')\n",
        "image.shape\n",
        "from google.colab.patches import cv2_imshow\n",
        "cv2_imshow(image)\n"
      ]
    },
    {
      "cell_type": "code",
      "execution_count": null,
      "metadata": {
        "id": "ymtNkftjZpNi"
      },
      "outputs": [],
      "source": [
        "faceDetectorHog = dlib.get_frontal_face_detector()\n",
        "detections = faceDetectorHog(image,1)\n",
        "print(len(detections))"
      ]
    },
    {
      "cell_type": "code",
      "execution_count": null,
      "metadata": {
        "id": "4Dyukb9uaUjp"
      },
      "outputs": [],
      "source": [
        "for face in detections:\n",
        "  l,t,r,b = face.left(),face.top(),face.right(),face.bottom()\n",
        "  print(l,t,r,b)\n",
        "  cv2.rectangle(image,(l,t),(r,b),(0,255,255),2)\n",
        "\n",
        "cv2_imshow(image)"
      ]
    },
    {
      "cell_type": "markdown",
      "source": [
        "##Front Face detection with **CNN** and **Dlib**"
      ],
      "metadata": {
        "id": "CUfoOcx4MllJ"
      }
    },
    {
      "cell_type": "code",
      "execution_count": null,
      "metadata": {
        "id": "4fyriItOM1T1"
      },
      "outputs": [],
      "source": [
        "import dlib\n",
        "import  cv2"
      ]
    },
    {
      "cell_type": "code",
      "execution_count": null,
      "metadata": {
        "id": "Low-b4uIM1UA"
      },
      "outputs": [],
      "source": [
        "from google.colab import drive \n",
        "drive.mount('/content/drive')\n",
        "image = cv2.imread('/content/peoble_faceDetection_example.png')\n",
        "image.shape\n",
        "from google.colab.patches import cv2_imshow\n",
        "cv2_imshow(image)\n"
      ]
    },
    {
      "cell_type": "code",
      "execution_count": null,
      "metadata": {
        "id": "x82pfOxxM1UA"
      },
      "outputs": [],
      "source": [
        "faceDetectorCNN = dlib.cnn_face_detection_model_v1(\"/content/mmod_human_face_detector.dat\")\n",
        "detections = faceDetectorCNN(image,1)\n",
        "print(len(detections))"
      ]
    },
    {
      "cell_type": "code",
      "execution_count": null,
      "metadata": {
        "id": "8DaisvbnM1UB"
      },
      "outputs": [],
      "source": [
        "for face in detections:\n",
        "  l,t,r,b,c = face.rect.left(),face.rect.top(),face.rect.right(),face.rect.bottom(),face.confidence\n",
        "  print(c)\n",
        "  cv2.rectangle(image,(l,t),(r,b),(255,255,0),4)\n",
        "\n",
        "cv2_imshow(image)"
      ]
    }
  ],
  "metadata": {
    "colab": {
      "collapsed_sections": [],
      "name": "face detection.ipynb",
      "provenance": [],
      "mount_file_id": "1i39lKfbJow_yxr-zhVDU8qzf4EzWhHRv",
      "authorship_tag": "ABX9TyNUak2CG5LTrycsAm4GdlB5",
      "include_colab_link": true
    },
    "kernelspec": {
      "display_name": "Python 3",
      "name": "python3"
    },
    "language_info": {
      "name": "python"
    },
    "accelerator": "GPU"
  },
  "nbformat": 4,
  "nbformat_minor": 0
}